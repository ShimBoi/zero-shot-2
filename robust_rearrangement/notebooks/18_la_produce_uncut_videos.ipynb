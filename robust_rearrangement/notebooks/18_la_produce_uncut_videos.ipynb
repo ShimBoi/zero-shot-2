{
 "cells": [
  {
   "cell_type": "code",
   "execution_count": 3,
   "metadata": {},
   "outputs": [],
   "source": [
    "%load_ext autoreload\n",
    "%autoreload 2"
   ]
  },
  {
   "cell_type": "code",
   "execution_count": 4,
   "metadata": {},
   "outputs": [],
   "source": [
    "import os\n",
    "import random\n",
    "from pathlib import Path\n",
    "\n",
    "from tqdm import tqdm\n",
    "\n",
    "from src.common.files import get_raw_paths\n",
    "from src.visualization.render_mp4 import mp4_from_pickle_jupyter, mp4_from_pickle"
   ]
  },
  {
   "cell_type": "code",
   "execution_count": 5,
   "metadata": {},
   "outputs": [],
   "source": [
    "os.environ[\"DATA_DIR_RAW\"] = \"/data/scratch/ankile/robust-assembly-video-data\""
   ]
  },
  {
   "cell_type": "code",
   "execution_count": 6,
   "metadata": {},
   "outputs": [],
   "source": [
    "root = Path(os.environ[\"DATA_DIR_RAW\"])\n",
    "root_video_output_dir = root / \"videos\""
   ]
  },
  {
   "cell_type": "markdown",
   "metadata": {},
   "source": [
    "# One Leg, low\n"
   ]
  },
  {
   "cell_type": "code",
   "execution_count": 7,
   "metadata": {},
   "outputs": [],
   "source": [
    "video_output_dir = root_video_output_dir / \"one_leg_low\"\n",
    "(video_output_dir / \"rppo\").mkdir(exist_ok=True)\n",
    "(video_output_dir / \"bc\").mkdir(exist_ok=True)"
   ]
  },
  {
   "cell_type": "markdown",
   "metadata": {},
   "source": [
    "### RPPO"
   ]
  },
  {
   "cell_type": "code",
   "execution_count": 16,
   "metadata": {},
   "outputs": [
    {
     "name": "stdout",
     "output_type": "stream",
     "text": [
      "Found the following paths:\n",
      "    /data/scratch/ankile/robust-assembly-video-data/raw/diffik/sim/one_leg/rollout/low/rppo/success/*.pkl*\n",
      "    /data/scratch/ankile/robust-assembly-video-data/raw/diffik/sim/one_leg/rollout/low/rppo/failure/*.pkl*\n"
     ]
    },
    {
     "data": {
      "text/plain": [
       "1078"
      ]
     },
     "execution_count": 16,
     "metadata": {},
     "output_type": "execute_result"
    }
   ],
   "source": [
    "rppo_pickles = get_raw_paths(\n",
    "    domain=\"sim\",\n",
    "    controller=\"diffik\",\n",
    "    task=\"one_leg\",\n",
    "    demo_outcome=[\"success\", \"failure\"],\n",
    "    suffix=\"rppo\",\n",
    "    demo_source=\"rollout\",\n",
    "    randomness=\"low\",\n",
    ")\n",
    "\n",
    "random.shuffle(rppo_pickles)\n",
    "\n",
    "len(rppo_pickles)"
   ]
  },
  {
   "cell_type": "code",
   "execution_count": 17,
   "metadata": {},
   "outputs": [],
   "source": [
    "# Keep only files ending with .xz\n",
    "# rppo_pickles = [p for p in rppo_pickles if p.suffix == \".xz\"]\n",
    "\n",
    "# len(rppo_pickles)"
   ]
  },
  {
   "cell_type": "code",
   "execution_count": 21,
   "metadata": {},
   "outputs": [
    {
     "name": "stderr",
     "output_type": "stream",
     "text": [
      "  0%|          | 2/1000 [00:08<1:14:47,  4.50s/it]"
     ]
    },
    {
     "name": "stderr",
     "output_type": "stream",
     "text": [
      "\n",
      "100%|██████████| 1000/1000 [32:59<00:00,  2.42s/it]"
     ]
    }
   ],
   "source": [
    "successful_renders = 0\n",
    "i = 0\n",
    "\n",
    "it = tqdm(total=1000)\n",
    "\n",
    "while successful_renders < 1000 and i < len(rppo_pickles):\n",
    "    pkl = rppo_pickles[i]\n",
    "    try:\n",
    "        mp4_from_pickle(pkl, video_output_dir / \"rppo\" / f\"{successful_renders:04d}.mp4\", fps=40, cameras=[2])\n",
    "        successful_renders += 1\n",
    "        it.update(1)\n",
    "    except EOFError:\n",
    "        print(f\"Failed to render {pkl}, deleting file.\")\n",
    "        pkl.unlink()\n",
    "    i += 1"
   ]
  },
  {
   "cell_type": "code",
   "execution_count": 28,
   "metadata": {},
   "outputs": [],
   "source": [
    "# Make a txt file with the list of videos\n",
    "with open(video_output_dir / \"rppo\" / \"videos.txt\", \"w\") as f:\n",
    "    for i in range(1_000):\n",
    "        f.write(f\"file '{i:04d}.mp4'\\n\")\n"
   ]
  },
  {
   "cell_type": "markdown",
   "metadata": {},
   "source": [
    "### BC"
   ]
  },
  {
   "cell_type": "code",
   "execution_count": 23,
   "metadata": {},
   "outputs": [
    {
     "name": "stdout",
     "output_type": "stream",
     "text": [
      "Found the following paths:\n",
      "    /data/scratch/ankile/robust-assembly-video-data/raw/diffik/sim/one_leg/rollout/low/bc/success/*.pkl*\n",
      "    /data/scratch/ankile/robust-assembly-video-data/raw/diffik/sim/one_leg/rollout/low/bc/failure/*.pkl*\n"
     ]
    },
    {
     "data": {
      "text/plain": [
       "1050"
      ]
     },
     "execution_count": 23,
     "metadata": {},
     "output_type": "execute_result"
    }
   ],
   "source": [
    "bc_pickles = get_raw_paths(\n",
    "    domain=\"sim\",\n",
    "    controller=\"diffik\",\n",
    "    task=\"one_leg\",\n",
    "    demo_outcome=[\"success\", \"failure\"],\n",
    "    suffix=\"bc\",\n",
    "    demo_source=\"rollout\",\n",
    "    randomness=\"low\",\n",
    ")\n",
    "\n",
    "random.shuffle(bc_pickles)\n",
    "\n",
    "len(bc_pickles)"
   ]
  },
  {
   "cell_type": "code",
   "execution_count": 24,
   "metadata": {},
   "outputs": [
    {
     "name": "stderr",
     "output_type": "stream",
     "text": [
      "100%|██████████| 1000/1000 [33:00<00:00,  1.98s/it]\n"
     ]
    },
    {
     "name": "stdout",
     "output_type": "stream",
     "text": [
      "Failed to render /data/scratch/ankile/robust-assembly-video-data/raw/diffik/sim/one_leg/rollout/low/bc/success/2024-09-26T15:33:23.759284.pkl.xz, deleting file.\n"
     ]
    },
    {
     "name": "stderr",
     "output_type": "stream",
     "text": []
    },
    {
     "name": "stdout",
     "output_type": "stream",
     "text": [
      "Failed to render /data/scratch/ankile/robust-assembly-video-data/raw/diffik/sim/one_leg/rollout/low/bc/failure/2024-09-25T17:01:53.983973.pkl.xz, deleting file.\n"
     ]
    },
    {
     "name": "stderr",
     "output_type": "stream",
     "text": []
    }
   ],
   "source": [
    "successful_renders = 0\n",
    "i = 0\n",
    "\n",
    "it = tqdm(total=1000)\n",
    "\n",
    "while successful_renders < 1000 and i < len(bc_pickles):\n",
    "    pkl = bc_pickles[i]\n",
    "    try:\n",
    "        mp4_from_pickle(pkl, video_output_dir / \"bc\" / f\"{successful_renders:04d}.mp4\", fps=40, cameras=[2])\n",
    "        successful_renders += 1\n",
    "        it.update(1)\n",
    "    except EOFError:\n",
    "        print(f\"Failed to render {pkl}, deleting file.\")\n",
    "        pkl.unlink()\n",
    "    i += 1"
   ]
  },
  {
   "cell_type": "code",
   "execution_count": 27,
   "metadata": {},
   "outputs": [],
   "source": [
    "# Make a txt file with the list of videos\n",
    "with open(video_output_dir / \"bc\" / \"videos.txt\", \"w\") as f:\n",
    "    for i in range(1_000):\n",
    "        f.write(f\"file '{i:04d}.mp4'\\n\")\n"
   ]
  },
  {
   "cell_type": "markdown",
   "metadata": {},
   "source": [
    "# Round Table, Medium\n"
   ]
  },
  {
   "cell_type": "code",
   "execution_count": 9,
   "metadata": {},
   "outputs": [],
   "source": [
    "video_output_dir = root_video_output_dir / \"round_table_med\"\n",
    "(video_output_dir / \"rppo\").mkdir(parents=True, exist_ok=True)\n",
    "(video_output_dir / \"bc\").mkdir(parents=True, exist_ok=True)"
   ]
  },
  {
   "cell_type": "markdown",
   "metadata": {},
   "source": [
    "### RPPO"
   ]
  },
  {
   "cell_type": "code",
   "execution_count": 14,
   "metadata": {},
   "outputs": [
    {
     "name": "stdout",
     "output_type": "stream",
     "text": [
      "Found the following paths:\n",
      "    /data/scratch/ankile/robust-assembly-video-data/raw/diffik/sim/round_table/rollout/med/rppo/success/*.pkl*\n",
      "    /data/scratch/ankile/robust-assembly-video-data/raw/diffik/sim/round_table/rollout/med/rppo/failure/*.pkl*\n"
     ]
    },
    {
     "data": {
      "text/plain": [
       "1415"
      ]
     },
     "execution_count": 14,
     "metadata": {},
     "output_type": "execute_result"
    }
   ],
   "source": [
    "rppo_pickles = get_raw_paths(\n",
    "    domain=\"sim\",\n",
    "    controller=\"diffik\",\n",
    "    task=\"round_table\",\n",
    "    demo_outcome=[\"success\", \"failure\"],\n",
    "    suffix=\"rppo\",\n",
    "    demo_source=\"rollout\",\n",
    "    randomness=\"med\",\n",
    ")\n",
    "\n",
    "random.shuffle(rppo_pickles)\n",
    "\n",
    "len(rppo_pickles)"
   ]
  },
  {
   "cell_type": "code",
   "execution_count": 15,
   "metadata": {},
   "outputs": [
    {
     "name": "stderr",
     "output_type": "stream",
     "text": [
      "  0%|          | 0/1000 [00:00<?, ?it/s]"
     ]
    },
    {
     "name": "stderr",
     "output_type": "stream",
     "text": [
      " 48%|████▊     | 479/1000 [13:33<13:48,  1.59s/it]"
     ]
    },
    {
     "name": "stdout",
     "output_type": "stream",
     "text": [
      "Failed to render /data/scratch/ankile/robust-assembly-video-data/raw/diffik/sim/round_table/rollout/med/rppo/success/2024-10-07T16:47:17.105927.pkl.xz, deleting file.\n"
     ]
    },
    {
     "name": "stderr",
     "output_type": "stream",
     "text": [
      "100%|██████████| 1000/1000 [28:53<00:00,  1.46s/it]"
     ]
    }
   ],
   "source": [
    "successful_renders = 0\n",
    "i = 0\n",
    "\n",
    "it = tqdm(total=1000)\n",
    "\n",
    "while successful_renders < 1000 and i < len(rppo_pickles):\n",
    "    pkl = rppo_pickles[i]\n",
    "    try:\n",
    "        mp4_from_pickle(pkl, video_output_dir / \"rppo\" / f\"{successful_renders:04d}.mp4\", fps=40, cameras=[2])\n",
    "        successful_renders += 1\n",
    "        it.update(1)\n",
    "    except EOFError:\n",
    "        print(f\"Failed to render {pkl}, deleting file.\")\n",
    "        pkl.unlink()\n",
    "    i += 1"
   ]
  },
  {
   "cell_type": "code",
   "execution_count": 16,
   "metadata": {},
   "outputs": [],
   "source": [
    "# Make a txt file with the list of videos\n",
    "with open(video_output_dir / \"rppo\" / \"videos.txt\", \"w\") as f:\n",
    "    for i in range(1_000):\n",
    "        f.write(f\"file '{i:04d}.mp4'\\n\")\n"
   ]
  },
  {
   "cell_type": "markdown",
   "metadata": {},
   "source": [
    "### BC"
   ]
  },
  {
   "cell_type": "code",
   "execution_count": 17,
   "metadata": {},
   "outputs": [
    {
     "name": "stdout",
     "output_type": "stream",
     "text": [
      "Found the following paths:\n",
      "    /data/scratch/ankile/robust-assembly-video-data/raw/diffik/sim/round_table/rollout/med/bc/success/*.pkl*\n",
      "    /data/scratch/ankile/robust-assembly-video-data/raw/diffik/sim/round_table/rollout/med/bc/failure/*.pkl*\n"
     ]
    },
    {
     "data": {
      "text/plain": [
       "1032"
      ]
     },
     "execution_count": 17,
     "metadata": {},
     "output_type": "execute_result"
    }
   ],
   "source": [
    "bc_pickles = get_raw_paths(\n",
    "    domain=\"sim\",\n",
    "    controller=\"diffik\",\n",
    "    task=\"round_table\",\n",
    "    demo_outcome=[\"success\", \"failure\"],\n",
    "    suffix=\"bc\",\n",
    "    demo_source=\"rollout\",\n",
    "    randomness=\"med\",\n",
    ")\n",
    "\n",
    "random.shuffle(bc_pickles)\n",
    "\n",
    "len(bc_pickles)"
   ]
  },
  {
   "cell_type": "code",
   "execution_count": 18,
   "metadata": {},
   "outputs": [
    {
     "name": "stderr",
     "output_type": "stream",
     "text": [
      "100%|██████████| 1000/1000 [28:54<00:00,  1.73s/it]\n"
     ]
    },
    {
     "name": "stdout",
     "output_type": "stream",
     "text": [
      "Failed to render /data/scratch/ankile/robust-assembly-video-data/raw/diffik/sim/round_table/rollout/med/bc/failure/2024-10-07T16:47:12.468333.pkl.xz, deleting file.\n"
     ]
    },
    {
     "name": "stderr",
     "output_type": "stream",
     "text": []
    }
   ],
   "source": [
    "successful_renders = 0\n",
    "i = 0\n",
    "\n",
    "it = tqdm(total=1000)\n",
    "\n",
    "while successful_renders < 1000 and i < len(bc_pickles):\n",
    "    pkl = bc_pickles[i]\n",
    "    try:\n",
    "        mp4_from_pickle(pkl, video_output_dir / \"bc\" / f\"{successful_renders:04d}.mp4\", fps=40, cameras=[2])\n",
    "        successful_renders += 1\n",
    "        it.update(1)\n",
    "    except EOFError:\n",
    "        print(f\"Failed to render {pkl}, deleting file.\")\n",
    "        pkl.unlink()\n",
    "    i += 1"
   ]
  },
  {
   "cell_type": "code",
   "execution_count": 19,
   "metadata": {},
   "outputs": [],
   "source": [
    "# Make a txt file with the list of videos\n",
    "with open(video_output_dir / \"bc\" / \"videos.txt\", \"w\") as f:\n",
    "    for i in range(1_000):\n",
    "        f.write(f\"file '{i:04d}.mp4'\\n\")\n"
   ]
  },
  {
   "cell_type": "code",
   "execution_count": null,
   "metadata": {},
   "outputs": [],
   "source": []
  },
  {
   "cell_type": "code",
   "execution_count": null,
   "metadata": {},
   "outputs": [],
   "source": []
  }
 ],
 "metadata": {
  "kernelspec": {
   "display_name": "rr",
   "language": "python",
   "name": "python3"
  },
  "language_info": {
   "codemirror_mode": {
    "name": "ipython",
    "version": 3
   },
   "file_extension": ".py",
   "mimetype": "text/x-python",
   "name": "python",
   "nbconvert_exporter": "python",
   "pygments_lexer": "ipython3",
   "version": "3.8.19"
  }
 },
 "nbformat": 4,
 "nbformat_minor": 2
}
